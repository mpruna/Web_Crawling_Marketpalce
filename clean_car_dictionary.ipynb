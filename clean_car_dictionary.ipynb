{
 "cells": [
  {
   "cell_type": "code",
   "execution_count": 156,
   "metadata": {},
   "outputs": [],
   "source": [
    "import pandas as pd"
   ]
  },
  {
   "cell_type": "code",
   "execution_count": 157,
   "metadata": {},
   "outputs": [],
   "source": [
    "data = pd.read_json('car-list.json')"
   ]
  },
  {
   "cell_type": "code",
   "execution_count": 158,
   "metadata": {
    "scrolled": true
   },
   "outputs": [
    {
     "data": {
      "text/html": [
       "<div>\n",
       "<style scoped>\n",
       "    .dataframe tbody tr th:only-of-type {\n",
       "        vertical-align: middle;\n",
       "    }\n",
       "\n",
       "    .dataframe tbody tr th {\n",
       "        vertical-align: top;\n",
       "    }\n",
       "\n",
       "    .dataframe thead th {\n",
       "        text-align: right;\n",
       "    }\n",
       "</style>\n",
       "<table border=\"1\" class=\"dataframe\">\n",
       "  <thead>\n",
       "    <tr style=\"text-align: right;\">\n",
       "      <th></th>\n",
       "      <th>brand</th>\n",
       "      <th>models</th>\n",
       "    </tr>\n",
       "  </thead>\n",
       "  <tbody>\n",
       "    <tr>\n",
       "      <th>0</th>\n",
       "      <td>Seat</td>\n",
       "      <td>[Alhambra, Altea, Altea XL, Arosa, Cordoba, Co...</td>\n",
       "    </tr>\n",
       "    <tr>\n",
       "      <th>1</th>\n",
       "      <td>Renault</td>\n",
       "      <td>[Captur, Clio, Clio Grandtour, Espace, Express...</td>\n",
       "    </tr>\n",
       "    <tr>\n",
       "      <th>2</th>\n",
       "      <td>Peugeot</td>\n",
       "      <td>[1007, 107, 106, 108, 2008, 205, 205 Cabrio, 2...</td>\n",
       "    </tr>\n",
       "    <tr>\n",
       "      <th>3</th>\n",
       "      <td>Dacia</td>\n",
       "      <td>[Dokker, Duster, Lodgy, Logan, Logan MCV, Loga...</td>\n",
       "    </tr>\n",
       "    <tr>\n",
       "      <th>4</th>\n",
       "      <td>Citroën</td>\n",
       "      <td>[Berlingo, C-Crosser, C-Elissée, C-Zero, C1, C...</td>\n",
       "    </tr>\n",
       "  </tbody>\n",
       "</table>\n",
       "</div>"
      ],
      "text/plain": [
       "     brand                                             models\n",
       "0     Seat  [Alhambra, Altea, Altea XL, Arosa, Cordoba, Co...\n",
       "1  Renault  [Captur, Clio, Clio Grandtour, Espace, Express...\n",
       "2  Peugeot  [1007, 107, 106, 108, 2008, 205, 205 Cabrio, 2...\n",
       "3    Dacia  [Dokker, Duster, Lodgy, Logan, Logan MCV, Loga...\n",
       "4  Citroën  [Berlingo, C-Crosser, C-Elissée, C-Zero, C1, C..."
      ]
     },
     "execution_count": 158,
     "metadata": {},
     "output_type": "execute_result"
    }
   ],
   "source": [
    "data.head()"
   ]
  },
  {
   "cell_type": "markdown",
   "metadata": {},
   "source": [
    "### Convert strings to lower"
   ]
  },
  {
   "cell_type": "code",
   "execution_count": 159,
   "metadata": {},
   "outputs": [],
   "source": [
    "def model_lower(x):\n",
    "    x = [str(i).lower() for i in x]\n",
    "    return x"
   ]
  },
  {
   "cell_type": "code",
   "execution_count": 160,
   "metadata": {},
   "outputs": [],
   "source": [
    "data['brand'] = data['brand'].str.lower()       # brand lower\n",
    "\n",
    "for index, row in data['models'].iteritems():   # model lower\n",
    "    row=[item.lower() for item in row]\n",
    "    data['models'][index]=row"
   ]
  },
  {
   "cell_type": "markdown",
   "metadata": {},
   "source": [
    "### Translate French characters\n",
    "\n",
    "Translate french char sets based on translation tables.  \n",
    "Example:  \n",
    "```\n",
    "translationTable = str.maketrans(\"éàèùâêîôûç\", \"eaeuaeiouc\")\n",
    "\n",
    "test = \"Héllô Càèùverâêt Jîôûç\"\n",
    "test = test.translate(translationTable)\n",
    "print(test)\n",
    "```\n",
    "\n",
    "Ref: https://stackoverflow.com/questions/41004941/python-replace-french-letters-with-english"
   ]
  },
  {
   "cell_type": "code",
   "execution_count": 161,
   "metadata": {},
   "outputs": [],
   "source": [
    "map={\"citroën\":\"citroen\", \"škoda\":\"skoda\"}                   # Replace brand names\n",
    "data.replace({\"brand\": map},inplace= True) \n",
    "\n",
    "translatentable = str.maketrans(\"éàèùâêîôûç\", \"eaeuaeiouc\")  # Replace brand models\n",
    "for idx, row in data['models'].iteritems():\n",
    "    new_row=[]\n",
    "    for item in row:\n",
    "        item.translate(translatentable)\n",
    "        new_row.append(item)\n",
    "    data['models'][idx]=new_row"
   ]
  },
  {
   "cell_type": "code",
   "execution_count": 162,
   "metadata": {},
   "outputs": [],
   "source": [
    "data.to_json('car-list_v2.json')"
   ]
  },
  {
   "cell_type": "code",
   "execution_count": 164,
   "metadata": {},
   "outputs": [
    {
     "data": {
      "text/html": [
       "<div>\n",
       "<style scoped>\n",
       "    .dataframe tbody tr th:only-of-type {\n",
       "        vertical-align: middle;\n",
       "    }\n",
       "\n",
       "    .dataframe tbody tr th {\n",
       "        vertical-align: top;\n",
       "    }\n",
       "\n",
       "    .dataframe thead th {\n",
       "        text-align: right;\n",
       "    }\n",
       "</style>\n",
       "<table border=\"1\" class=\"dataframe\">\n",
       "  <thead>\n",
       "    <tr style=\"text-align: right;\">\n",
       "      <th></th>\n",
       "      <th>brand</th>\n",
       "      <th>models</th>\n",
       "    </tr>\n",
       "  </thead>\n",
       "  <tbody>\n",
       "    <tr>\n",
       "      <th>0</th>\n",
       "      <td>seat</td>\n",
       "      <td>[alhambra, altea, altea xl, arosa, cordoba, co...</td>\n",
       "    </tr>\n",
       "    <tr>\n",
       "      <th>1</th>\n",
       "      <td>renault</td>\n",
       "      <td>[captur, clio, clio grandtour, espace, express...</td>\n",
       "    </tr>\n",
       "    <tr>\n",
       "      <th>2</th>\n",
       "      <td>peugeot</td>\n",
       "      <td>[1007, 107, 106, 108, 2008, 205, 205 cabrio, 2...</td>\n",
       "    </tr>\n",
       "    <tr>\n",
       "      <th>3</th>\n",
       "      <td>dacia</td>\n",
       "      <td>[dokker, duster, lodgy, logan, logan mcv, loga...</td>\n",
       "    </tr>\n",
       "    <tr>\n",
       "      <th>4</th>\n",
       "      <td>citroen</td>\n",
       "      <td>[berlingo, c-crosser, c-elissée, c-zero, c1, c...</td>\n",
       "    </tr>\n",
       "  </tbody>\n",
       "</table>\n",
       "</div>"
      ],
      "text/plain": [
       "     brand                                             models\n",
       "0     seat  [alhambra, altea, altea xl, arosa, cordoba, co...\n",
       "1  renault  [captur, clio, clio grandtour, espace, express...\n",
       "2  peugeot  [1007, 107, 106, 108, 2008, 205, 205 cabrio, 2...\n",
       "3    dacia  [dokker, duster, lodgy, logan, logan mcv, loga...\n",
       "4  citroen  [berlingo, c-crosser, c-elissée, c-zero, c1, c..."
      ]
     },
     "execution_count": 164,
     "metadata": {},
     "output_type": "execute_result"
    }
   ],
   "source": [
    "data.head()"
   ]
  },
  {
   "cell_type": "code",
   "execution_count": null,
   "metadata": {},
   "outputs": [],
   "source": []
  }
 ],
 "metadata": {
  "kernelspec": {
   "display_name": "Python 3",
   "language": "python",
   "name": "python3"
  },
  "language_info": {
   "codemirror_mode": {
    "name": "ipython",
    "version": 3
   },
   "file_extension": ".py",
   "mimetype": "text/x-python",
   "name": "python",
   "nbconvert_exporter": "python",
   "pygments_lexer": "ipython3",
   "version": "3.8.6"
  }
 },
 "nbformat": 4,
 "nbformat_minor": 4
}
